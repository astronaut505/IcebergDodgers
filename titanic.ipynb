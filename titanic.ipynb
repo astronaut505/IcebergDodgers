{
 "cells": [
  {
   "cell_type": "code",
   "execution_count": null,
   "metadata": {},
   "outputs": [],
   "source": [
    "import numpy as np\n",
    "import pandas as pd\n",
    "import seaborn as sns\n",
    "import matplotlib.pyplot as plt\n",
    "from sklearn.model_selection import train_test_split"
   ]
  },
  {
   "cell_type": "code",
   "execution_count": null,
   "metadata": {},
   "outputs": [],
   "source": [
    "# Load CSV file into a DataFrame\n",
    "df = pd.read_csv('data/titanic.csv')\n",
    "df.head()"
   ]
  },
  {
   "cell_type": "code",
   "execution_count": null,
   "metadata": {},
   "outputs": [],
   "source": [
    "df.drop('Name', axis=1, inplace=True)\n",
    "df.head()"
   ]
  },
  {
   "cell_type": "code",
   "execution_count": null,
   "metadata": {},
   "outputs": [],
   "source": [
    "df.info()"
   ]
  },
  {
   "cell_type": "code",
   "execution_count": null,
   "metadata": {},
   "outputs": [],
   "source": [
    "df.isna().sum()"
   ]
  },
  {
   "cell_type": "code",
   "execution_count": null,
   "metadata": {},
   "outputs": [],
   "source": [
    "df.describe()"
   ]
  },
  {
   "cell_type": "code",
   "execution_count": null,
   "metadata": {},
   "outputs": [],
   "source": [
    "plt.figure(figsize=(10, 3))\n",
    "sns.histplot(df['Survived'], kde=False)\n",
    "plt.title('Survived')\n",
    "plt.xlabel('Survived')\n",
    "plt.ylabel('Count')\n",
    "plt.xticks([0, 1], ['0', '1'])\n",
    "plt.show()"
   ]
  },
  {
   "cell_type": "code",
   "execution_count": null,
   "metadata": {},
   "outputs": [],
   "source": [
    "fig, axes = plt.subplots(ncols=2, nrows=4, figsize=(20, 20))\n",
    "for i, ax in zip(df.columns, axes.flat):\n",
    "    sns.histplot(x=df[i], ax=ax).set(title=f\"Histogram of : {i}\", xlabel=\"\")\n",
    "plt.show()"
   ]
  },
  {
   "cell_type": "code",
   "execution_count": null,
   "metadata": {},
   "outputs": [],
   "source": [
    "df.info()"
   ]
  },
  {
   "cell_type": "code",
   "execution_count": null,
   "metadata": {},
   "outputs": [],
   "source": [
    "# Assuming df is your DataFrame\n",
    "df_without_sex = df.drop('Sex', axis=1)  # Drop the 'Sex' column\n",
    "\n",
    "# Calculate the correlation matrix using Spearman method\n",
    "corr = df_without_sex.corr(method='spearman')\n",
    "\n",
    "# Display the correlation matrix\n",
    "print(corr)\n"
   ]
  },
  {
   "cell_type": "code",
   "execution_count": null,
   "metadata": {},
   "outputs": [],
   "source": [
    "# Define features (X) and target (y)\n",
    "X = df.drop('Survived', axis=1)\n",
    "y = df['Survived']\n",
    "\n",
    "# Split the data into training and testing sets\n",
    "X_train, X_test, y_train, y_test = train_test_split(X, y, test_size=0.2, random_state=42, stratify=y)\n",
    "\n",
    "# Display train and test data\n",
    "df_train, df_test, y_train, y_test = train_test_split(df, df['Survived'], test_size=0.2, random_state=123)\n",
    "\n",
    "print(\"\\nTRAIN:\")\n",
    "display(df_train.head())\n",
    "print(\"SHAPE:\", df_train.shape)\n",
    "\n",
    "print(\"\\nTEST:\")\n",
    "display(df_test.head())\n",
    "print(\"SHAPE:\", df_test.shape)"
   ]
  },
  {
   "cell_type": "code",
   "execution_count": null,
   "metadata": {},
   "outputs": [],
   "source": [
    "df_train.info()\n",
    "df_train.isna().sum()\n",
    "df_train.describe()"
   ]
  },
  {
   "cell_type": "code",
   "execution_count": null,
   "metadata": {},
   "outputs": [],
   "source": [
    "plt.figure(figsize=(10,10))\n",
    "sns.set(font_scale=1.25)\n",
    "sns.heatmap(\n",
    "    corr, linewidths=1.5, annot=True, square=True, fmt=\".2f\", annot_kws={\"size\": 10}\n",
    ")\n",
    "plt.show()"
   ]
  },
  {
   "cell_type": "code",
   "execution_count": null,
   "metadata": {},
   "outputs": [],
   "source": [
    "df_train.head()"
   ]
  },
  {
   "cell_type": "code",
   "execution_count": null,
   "metadata": {},
   "outputs": [],
   "source": [
    "y = df_train[\"Survived\"].values\n",
    "print(y.shape)"
   ]
  },
  {
   "cell_type": "code",
   "execution_count": null,
   "metadata": {},
   "outputs": [],
   "source": [
    "y = df_train[\"Survived\"].values"
   ]
  },
  {
   "cell_type": "code",
   "execution_count": null,
   "metadata": {},
   "outputs": [],
   "source": [
    "print(y.shape)"
   ]
  },
  {
   "cell_type": "code",
   "execution_count": null,
   "metadata": {},
   "outputs": [],
   "source": [
    "# Visualize the distribution of the target variable 'Survived'\n",
    "sns.countplot(x='Survived', data=df)\n",
    "plt.xlabel('Survived')\n",
    "plt.ylabel('Count')\n",
    "plt.title('Distribution of Survived')\n",
    "plt.show()\n",
    "\n",
    "# Explore relationships between features and the target variable\n",
    "sns.countplot(x='Survived', hue='Pclass', data=df)\n",
    "plt.xlabel('Survived')\n",
    "plt.ylabel('Count')\n",
    "plt.title('Survival by Passenger Class')\n",
    "plt.show()\n",
    "\n",
    "sns.boxplot(x='Survived', y='Age', data=df)\n",
    "plt.xlabel('Survived')\n",
    "plt.ylabel('Age')\n",
    "plt.title('Survival by Age')\n",
    "plt.show()"
   ]
  },
  {
   "cell_type": "code",
   "execution_count": null,
   "metadata": {},
   "outputs": [],
   "source": [
    "from scipy.stats import chi2_contingency\n",
    "\n",
    "# Chi-squared test for Sex vs. Survived\n",
    "sex_survived_contingency = pd.crosstab(df['Sex'], df['Survived'])\n",
    "chi2_stat, p_val, dof, expected = chi2_contingency(sex_survived_contingency)\n",
    "print(\"Chi-squared p-value for Sex vs. Survived:\", p_val)\n",
    "\n",
    "# Chi-squared test for Pclass vs. Survived\n",
    "pclass_survived_contingency = pd.crosstab(df['Pclass'], df['Survived'])\n",
    "chi2_stat, p_val, dof, expected = chi2_contingency(pclass_survived_contingency)\n",
    "print(\"Chi-squared p-value for Pclass vs. Survived:\", p_val)\n"
   ]
  },
  {
   "cell_type": "code",
   "execution_count": null,
   "metadata": {},
   "outputs": [],
   "source": [
    "from scipy.stats import f_oneway\n",
    "\n",
    "# Conduct ANOVA for Age and Pclass\n",
    "anova_results = f_oneway(\n",
    "    df_train[df_train['Pclass'] == 1]['Survived'].dropna(),\n",
    "    df_train[df_train['Pclass'] == 2]['Survived'].dropna(),\n",
    "    df_train[df_train['Pclass'] == 3]['Survived'].dropna()\n",
    ")\n",
    "\n",
    "print(\"ANOVA p-value for Survival and Pclass:\", anova_results.pvalue)\n"
   ]
  },
  {
   "cell_type": "code",
   "execution_count": null,
   "metadata": {},
   "outputs": [],
   "source": [
    "plt.figure(figsize=(8, 6))\n",
    "sns.boxplot(x='Survived', y='Age', data=df_train)\n",
    "plt.xlabel('Survived')\n",
    "plt.ylabel('Age')\n",
    "plt.title('Distribution of Age by Survival')\n",
    "plt.show()\n"
   ]
  },
  {
   "cell_type": "code",
   "execution_count": null,
   "metadata": {},
   "outputs": [],
   "source": [
    "df_train.describe()"
   ]
  },
  {
   "cell_type": "code",
   "execution_count": null,
   "metadata": {},
   "outputs": [],
   "source": [
    "df_train.tail()"
   ]
  },
  {
   "cell_type": "code",
   "execution_count": null,
   "metadata": {},
   "outputs": [],
   "source": [
    "import category_encoders as ce\n",
    "\n",
    "# Resetting indices for X_train and y_train\n",
    "X_train.reset_index(drop=True, inplace=True)\n",
    "y_train.reset_index(drop=True, inplace=True)\n",
    "\n",
    "# Example 1: Target Encoding\n",
    "encoder_target = ce.TargetEncoder(cols=['Pclass', 'Sex'])\n",
    "X_train_encoded_target = encoder_target.fit_transform(X_train, y_train)\n",
    "X_test_encoded_target = encoder_target.transform(X_test)\n",
    "\n",
    "# Example 2: CatBoost Encoding\n",
    "encoder_catboost = ce.CatBoostEncoder(cols=['Pclass', 'Sex'])\n",
    "X_train_encoded_catboost = encoder_catboost.fit_transform(X_train, y_train)\n",
    "X_test_encoded_catboost = encoder_catboost.transform(X_test)\n",
    "\n",
    "# Example 3: Binary Encoding\n",
    "encoder_binary = ce.BinaryEncoder(cols=['Pclass', 'Sex'])\n",
    "X_train_encoded_binary = encoder_binary.fit_transform(X_train, y_train)\n",
    "X_test_encoded_binary = encoder_binary.transform(X_test)\n"
   ]
  },
  {
   "cell_type": "code",
   "execution_count": null,
   "metadata": {},
   "outputs": [],
   "source": [
    "from sklearn.linear_model import LogisticRegression\n",
    "from sklearn.metrics import accuracy_score, classification_report\n",
    "\n",
    "# Initialize and train the model\n",
    "log_reg_model = LogisticRegression()\n",
    "log_reg_model.fit(X_train_encoded_binary, y_train)\n",
    "\n",
    "# Predict using the model\n",
    "y_pred = log_reg_model.predict(X_test_encoded_binary)\n",
    "\n",
    "# Evaluate model performance\n",
    "accuracy = accuracy_score(y_test, y_pred)\n",
    "print(\"Model Accuracy:\", accuracy)\n",
    "print(\"Classification Report:\")\n",
    "print(classification_report(y_test, y_pred))\n"
   ]
  },
  {
   "cell_type": "code",
   "execution_count": null,
   "metadata": {},
   "outputs": [],
   "source": [
    "# Resetting indices for X_train and y_train\n",
    "X_train.reset_index(drop=True, inplace=True)\n",
    "y_train.reset_index(drop=True, inplace=True)\n",
    "\n",
    "# Initialize the encoder and apply target encoding\n",
    "encoder_target = ce.TargetEncoder(cols=['Pclass', 'Sex'])\n",
    "X_train_encoded = encoder_target.fit_transform(X_train, y_train)\n",
    "X_test_encoded = encoder_target.transform(X_test)\n",
    "\n",
    "# Initialize and train the model\n",
    "log_reg_model = LogisticRegression()\n",
    "log_reg_model.fit(X_train_encoded, y_train)\n",
    "\n",
    "# Predict using the model\n",
    "y_pred = log_reg_model.predict(X_test_encoded)\n",
    "\n",
    "# Evaluate model performance\n",
    "accuracy = accuracy_score(y_test, y_pred)\n",
    "print(\"Model Accuracy:\", accuracy)\n",
    "print(\"Classification Report:\")\n",
    "print(classification_report(y_test, y_pred))\n"
   ]
  }
 ],
 "metadata": {
  "kernelspec": {
   "display_name": "base",
   "language": "python",
   "name": "python3"
  },
  "language_info": {
   "codemirror_mode": {
    "name": "ipython",
    "version": 3
   },
   "file_extension": ".py",
   "mimetype": "text/x-python",
   "name": "python",
   "nbconvert_exporter": "python",
   "pygments_lexer": "ipython3",
   "version": "3.12.0"
  }
 },
 "nbformat": 4,
 "nbformat_minor": 2
}
